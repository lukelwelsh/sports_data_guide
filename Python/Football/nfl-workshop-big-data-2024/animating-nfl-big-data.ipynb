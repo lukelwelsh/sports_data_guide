{
 "cells": [
  {
   "cell_type": "markdown",
   "id": "7ae917cd-f3ac-4fdc-9f46-0599a1fe011a",
   "metadata": {},
   "source": [
    "# This Notebook will consist of a guide for animating sports data.\n",
    "For this example, we will be working with data from the 2024 NFL Big Data Bowl, which recently opened!\n",
    "\n",
    "You can find the submissions from last year's finalists [here](https://operations.nfl.com/gameday/analytics/big-data-bowl/2023-big-data-bowl-finalists/)\n",
    "\n",
    "**Downloading the Data:** \n",
    "1. To get started with the data, you must first create a Kaggle account and join the competition [here] (https://www.kaggle.com/competitions/nfl-big-data-bowl-2024/data). The download button will be all the way at the bottom of the page on the right. Another option if you want to do this all from the command line would be through Kaggle's API, in which you can download with the following command: ```kaggle competitions download -c nfl-big-data-bowl-2024```\n",
    "2. This will download the data as a zip file. To unzip, start by navigating in your file explorer to wherever you downloaded the zip file, then double-click the file.     \n",
    "    - If you are working on Mac, this will unzip/extract the file, or use the unzip function in the Terminal\n",
    "    - If you are working in Windows, you will have to click \"Extract All\" towards the top of the file explorer.\n",
    "<br><br>\n",
    "3. This will create a new folder in the same directory, within which all of the files will be unzipped.\n",
    "\n",
    "You are now ready to get started working with the data!"
   ]
  }
 ],
 "metadata": {
  "kernelspec": {
   "display_name": "Python 3 (ipykernel)",
   "language": "python",
   "name": "python3"
  },
  "language_info": {
   "codemirror_mode": {
    "name": "ipython",
    "version": 3
   },
   "file_extension": ".py",
   "mimetype": "text/x-python",
   "name": "python",
   "nbconvert_exporter": "python",
   "pygments_lexer": "ipython3",
   "version": "3.10.12"
  }
 },
 "nbformat": 4,
 "nbformat_minor": 5
}
