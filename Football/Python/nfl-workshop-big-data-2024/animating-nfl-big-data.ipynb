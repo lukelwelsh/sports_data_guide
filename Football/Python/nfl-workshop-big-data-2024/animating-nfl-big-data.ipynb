{
 "cells": [
  {
   "cell_type": "markdown",
   "id": "7ae917cd-f3ac-4fdc-9f46-0599a1fe011a",
   "metadata": {},
   "source": [
    "# This Notebook will consist of a guide for animating sports data.\n",
    "For this example, we will be working with data from the 2024 NFL Big Data Bowl, which recently opened!\n",
    "\n",
    "You can find the submissions from last year's finalists [here](https://operations.nfl.com/gameday/analytics/big-data-bowl/2023-big-data-bowl-finalists/)\n",
    "\n",
    "**Downloading the Data:** \n",
    "1. To get started with the data, you must first create a Kaggle account and join the competition [here] (https://www.kaggle.com/competitions/nfl-big-data-bowl-2024/data). The download button will be all the way at the bottom of the page on the right. Another option if you want to do this all from the command line would be through Kaggle's API, in which you can download with the following command: ```kaggle competitions download -c nfl-big-data-bowl-2024```\n",
    "2. This will download the data as a zip file. To unzip, start by navigating in your file explorer to wherever you downloaded the zip file, then double-click the file.     \n",
    "    - If you are working on Mac, this will unzip/extract the file, or use the unzip function in the Terminal\n",
    "    - If you are working in Windows, you will have to click \"Extract All\" towards the top of the file explorer.\n",
    "<br><br>\n",
    "3. This will create a new folder in the same directory, within which all of the files will be unzipped.\n",
    "\n",
    "You are now ready to get started working with the data!"
   ]
  },
  {
   "cell_type": "code",
   "execution_count": 4,
   "id": "d237e58a-2ef1-444e-963a-c154246ee85e",
   "metadata": {},
   "outputs": [
    {
     "name": "stderr",
     "output_type": "stream",
     "text": [
      "/tmp/ipykernel_1163231/3368644655.py:8: UserWarning: Boolean Series key will be reindexed to match DataFrame index.\n",
      "  play = week_1[week_1['gameId'] == 2022091112][week_1['playId'] == 1613]\n"
     ]
    },
    {
     "data": {
      "text/html": [
       "<div>\n",
       "<style scoped>\n",
       "    .dataframe tbody tr th:only-of-type {\n",
       "        vertical-align: middle;\n",
       "    }\n",
       "\n",
       "    .dataframe tbody tr th {\n",
       "        vertical-align: top;\n",
       "    }\n",
       "\n",
       "    .dataframe thead th {\n",
       "        text-align: right;\n",
       "    }\n",
       "</style>\n",
       "<table border=\"1\" class=\"dataframe\">\n",
       "  <thead>\n",
       "    <tr style=\"text-align: right;\">\n",
       "      <th></th>\n",
       "      <th>gameId</th>\n",
       "      <th>playId</th>\n",
       "      <th>nflId</th>\n",
       "      <th>displayName</th>\n",
       "      <th>frameId</th>\n",
       "      <th>time</th>\n",
       "      <th>jerseyNumber</th>\n",
       "      <th>club</th>\n",
       "      <th>playDirection</th>\n",
       "      <th>x</th>\n",
       "      <th>y</th>\n",
       "      <th>s</th>\n",
       "      <th>a</th>\n",
       "      <th>dis</th>\n",
       "      <th>o</th>\n",
       "      <th>dir</th>\n",
       "      <th>event</th>\n",
       "    </tr>\n",
       "  </thead>\n",
       "  <tbody>\n",
       "    <tr>\n",
       "      <th>1192159</th>\n",
       "      <td>2022091112</td>\n",
       "      <td>1613</td>\n",
       "      <td>38632.0</td>\n",
       "      <td>Kirk Cousins</td>\n",
       "      <td>1</td>\n",
       "      <td>2022-09-11 17:41:58.099999</td>\n",
       "      <td>8.0</td>\n",
       "      <td>MIN</td>\n",
       "      <td>left</td>\n",
       "      <td>53.75</td>\n",
       "      <td>24.010000</td>\n",
       "      <td>0.12</td>\n",
       "      <td>0.36</td>\n",
       "      <td>0.01</td>\n",
       "      <td>286.26</td>\n",
       "      <td>73.78</td>\n",
       "      <td>NaN</td>\n",
       "    </tr>\n",
       "    <tr>\n",
       "      <th>1192160</th>\n",
       "      <td>2022091112</td>\n",
       "      <td>1613</td>\n",
       "      <td>38632.0</td>\n",
       "      <td>Kirk Cousins</td>\n",
       "      <td>2</td>\n",
       "      <td>2022-09-11 17:41:58.200000</td>\n",
       "      <td>8.0</td>\n",
       "      <td>MIN</td>\n",
       "      <td>left</td>\n",
       "      <td>53.76</td>\n",
       "      <td>24.010000</td>\n",
       "      <td>0.08</td>\n",
       "      <td>0.53</td>\n",
       "      <td>0.01</td>\n",
       "      <td>284.56</td>\n",
       "      <td>112.54</td>\n",
       "      <td>NaN</td>\n",
       "    </tr>\n",
       "    <tr>\n",
       "      <th>1192161</th>\n",
       "      <td>2022091112</td>\n",
       "      <td>1613</td>\n",
       "      <td>38632.0</td>\n",
       "      <td>Kirk Cousins</td>\n",
       "      <td>3</td>\n",
       "      <td>2022-09-11 17:41:58.299999</td>\n",
       "      <td>8.0</td>\n",
       "      <td>MIN</td>\n",
       "      <td>left</td>\n",
       "      <td>53.77</td>\n",
       "      <td>24.000000</td>\n",
       "      <td>0.09</td>\n",
       "      <td>0.66</td>\n",
       "      <td>0.01</td>\n",
       "      <td>283.16</td>\n",
       "      <td>174.65</td>\n",
       "      <td>NaN</td>\n",
       "    </tr>\n",
       "    <tr>\n",
       "      <th>1192162</th>\n",
       "      <td>2022091112</td>\n",
       "      <td>1613</td>\n",
       "      <td>38632.0</td>\n",
       "      <td>Kirk Cousins</td>\n",
       "      <td>4</td>\n",
       "      <td>2022-09-11 17:41:58.400000</td>\n",
       "      <td>8.0</td>\n",
       "      <td>MIN</td>\n",
       "      <td>left</td>\n",
       "      <td>53.76</td>\n",
       "      <td>24.000000</td>\n",
       "      <td>0.11</td>\n",
       "      <td>0.58</td>\n",
       "      <td>0.01</td>\n",
       "      <td>281.34</td>\n",
       "      <td>205.27</td>\n",
       "      <td>pass_arrived</td>\n",
       "    </tr>\n",
       "    <tr>\n",
       "      <th>1192163</th>\n",
       "      <td>2022091112</td>\n",
       "      <td>1613</td>\n",
       "      <td>38632.0</td>\n",
       "      <td>Kirk Cousins</td>\n",
       "      <td>5</td>\n",
       "      <td>2022-09-11 17:41:58.500000</td>\n",
       "      <td>8.0</td>\n",
       "      <td>MIN</td>\n",
       "      <td>left</td>\n",
       "      <td>53.75</td>\n",
       "      <td>23.990000</td>\n",
       "      <td>0.13</td>\n",
       "      <td>0.51</td>\n",
       "      <td>0.01</td>\n",
       "      <td>279.50</td>\n",
       "      <td>249.13</td>\n",
       "      <td>NaN</td>\n",
       "    </tr>\n",
       "    <tr>\n",
       "      <th>...</th>\n",
       "      <td>...</td>\n",
       "      <td>...</td>\n",
       "      <td>...</td>\n",
       "      <td>...</td>\n",
       "      <td>...</td>\n",
       "      <td>...</td>\n",
       "      <td>...</td>\n",
       "      <td>...</td>\n",
       "      <td>...</td>\n",
       "      <td>...</td>\n",
       "      <td>...</td>\n",
       "      <td>...</td>\n",
       "      <td>...</td>\n",
       "      <td>...</td>\n",
       "      <td>...</td>\n",
       "      <td>...</td>\n",
       "      <td>...</td>\n",
       "    </tr>\n",
       "    <tr>\n",
       "      <th>1193327</th>\n",
       "      <td>2022091112</td>\n",
       "      <td>1613</td>\n",
       "      <td>NaN</td>\n",
       "      <td>football</td>\n",
       "      <td>47</td>\n",
       "      <td>2022-09-11 17:42:02.700000</td>\n",
       "      <td>NaN</td>\n",
       "      <td>football</td>\n",
       "      <td>left</td>\n",
       "      <td>10.60</td>\n",
       "      <td>53.470001</td>\n",
       "      <td>5.44</td>\n",
       "      <td>2.92</td>\n",
       "      <td>0.54</td>\n",
       "      <td>NaN</td>\n",
       "      <td>NaN</td>\n",
       "      <td>touchdown</td>\n",
       "    </tr>\n",
       "    <tr>\n",
       "      <th>1193328</th>\n",
       "      <td>2022091112</td>\n",
       "      <td>1613</td>\n",
       "      <td>NaN</td>\n",
       "      <td>football</td>\n",
       "      <td>48</td>\n",
       "      <td>2022-09-11 17:42:02.799999</td>\n",
       "      <td>NaN</td>\n",
       "      <td>football</td>\n",
       "      <td>left</td>\n",
       "      <td>10.14</td>\n",
       "      <td>53.669998</td>\n",
       "      <td>4.98</td>\n",
       "      <td>3.78</td>\n",
       "      <td>0.51</td>\n",
       "      <td>NaN</td>\n",
       "      <td>NaN</td>\n",
       "      <td>NaN</td>\n",
       "    </tr>\n",
       "    <tr>\n",
       "      <th>1193329</th>\n",
       "      <td>2022091112</td>\n",
       "      <td>1613</td>\n",
       "      <td>NaN</td>\n",
       "      <td>football</td>\n",
       "      <td>49</td>\n",
       "      <td>2022-09-11 17:42:02.900000</td>\n",
       "      <td>NaN</td>\n",
       "      <td>football</td>\n",
       "      <td>left</td>\n",
       "      <td>9.69</td>\n",
       "      <td>53.840000</td>\n",
       "      <td>4.60</td>\n",
       "      <td>3.78</td>\n",
       "      <td>0.48</td>\n",
       "      <td>NaN</td>\n",
       "      <td>NaN</td>\n",
       "      <td>NaN</td>\n",
       "    </tr>\n",
       "    <tr>\n",
       "      <th>1193330</th>\n",
       "      <td>2022091112</td>\n",
       "      <td>1613</td>\n",
       "      <td>NaN</td>\n",
       "      <td>football</td>\n",
       "      <td>50</td>\n",
       "      <td>2022-09-11 17:42:03.000000</td>\n",
       "      <td>NaN</td>\n",
       "      <td>football</td>\n",
       "      <td>left</td>\n",
       "      <td>9.35</td>\n",
       "      <td>54.049999</td>\n",
       "      <td>4.00</td>\n",
       "      <td>4.24</td>\n",
       "      <td>0.40</td>\n",
       "      <td>NaN</td>\n",
       "      <td>NaN</td>\n",
       "      <td>NaN</td>\n",
       "    </tr>\n",
       "    <tr>\n",
       "      <th>1193331</th>\n",
       "      <td>2022091112</td>\n",
       "      <td>1613</td>\n",
       "      <td>NaN</td>\n",
       "      <td>football</td>\n",
       "      <td>51</td>\n",
       "      <td>2022-09-11 17:42:03.099999</td>\n",
       "      <td>NaN</td>\n",
       "      <td>football</td>\n",
       "      <td>left</td>\n",
       "      <td>9.06</td>\n",
       "      <td>54.250000</td>\n",
       "      <td>3.42</td>\n",
       "      <td>4.96</td>\n",
       "      <td>0.35</td>\n",
       "      <td>NaN</td>\n",
       "      <td>NaN</td>\n",
       "      <td>NaN</td>\n",
       "    </tr>\n",
       "  </tbody>\n",
       "</table>\n",
       "<p>1173 rows × 17 columns</p>\n",
       "</div>"
      ],
      "text/plain": [
       "             gameId  playId    nflId   displayName  frameId  \\\n",
       "1192159  2022091112    1613  38632.0  Kirk Cousins        1   \n",
       "1192160  2022091112    1613  38632.0  Kirk Cousins        2   \n",
       "1192161  2022091112    1613  38632.0  Kirk Cousins        3   \n",
       "1192162  2022091112    1613  38632.0  Kirk Cousins        4   \n",
       "1192163  2022091112    1613  38632.0  Kirk Cousins        5   \n",
       "...             ...     ...      ...           ...      ...   \n",
       "1193327  2022091112    1613      NaN      football       47   \n",
       "1193328  2022091112    1613      NaN      football       48   \n",
       "1193329  2022091112    1613      NaN      football       49   \n",
       "1193330  2022091112    1613      NaN      football       50   \n",
       "1193331  2022091112    1613      NaN      football       51   \n",
       "\n",
       "                               time  jerseyNumber      club playDirection  \\\n",
       "1192159  2022-09-11 17:41:58.099999           8.0       MIN          left   \n",
       "1192160  2022-09-11 17:41:58.200000           8.0       MIN          left   \n",
       "1192161  2022-09-11 17:41:58.299999           8.0       MIN          left   \n",
       "1192162  2022-09-11 17:41:58.400000           8.0       MIN          left   \n",
       "1192163  2022-09-11 17:41:58.500000           8.0       MIN          left   \n",
       "...                             ...           ...       ...           ...   \n",
       "1193327  2022-09-11 17:42:02.700000           NaN  football          left   \n",
       "1193328  2022-09-11 17:42:02.799999           NaN  football          left   \n",
       "1193329  2022-09-11 17:42:02.900000           NaN  football          left   \n",
       "1193330  2022-09-11 17:42:03.000000           NaN  football          left   \n",
       "1193331  2022-09-11 17:42:03.099999           NaN  football          left   \n",
       "\n",
       "             x          y     s     a   dis       o     dir         event  \n",
       "1192159  53.75  24.010000  0.12  0.36  0.01  286.26   73.78           NaN  \n",
       "1192160  53.76  24.010000  0.08  0.53  0.01  284.56  112.54           NaN  \n",
       "1192161  53.77  24.000000  0.09  0.66  0.01  283.16  174.65           NaN  \n",
       "1192162  53.76  24.000000  0.11  0.58  0.01  281.34  205.27  pass_arrived  \n",
       "1192163  53.75  23.990000  0.13  0.51  0.01  279.50  249.13           NaN  \n",
       "...        ...        ...   ...   ...   ...     ...     ...           ...  \n",
       "1193327  10.60  53.470001  5.44  2.92  0.54     NaN     NaN     touchdown  \n",
       "1193328  10.14  53.669998  4.98  3.78  0.51     NaN     NaN           NaN  \n",
       "1193329   9.69  53.840000  4.60  3.78  0.48     NaN     NaN           NaN  \n",
       "1193330   9.35  54.049999  4.00  4.24  0.40     NaN     NaN           NaN  \n",
       "1193331   9.06  54.250000  3.42  4.96  0.35     NaN     NaN           NaN  \n",
       "\n",
       "[1173 rows x 17 columns]"
      ]
     },
     "execution_count": 4,
     "metadata": {},
     "output_type": "execute_result"
    }
   ],
   "source": [
    "# Pandas will be used to read in and work with the data in a dataframe\n",
    "import pandas as pd\n",
    "\n",
    "# First, we will read in the data. If there is a play that you want to choose specifically, from last season, try to find it!\n",
    "week_1 = pd.read_csv(\"nfl-big-data-bowl-2024/tracking_week_1.csv\")\n",
    "\n",
    "# Here is an example of filtering down to a specific play. Be careful, as some playId's will be the same across different games\n",
    "play = week_1[week_1['gameId'] == 2022091112][week_1['playId'] == 1613]\n",
    "play"
   ]
  },
  {
   "cell_type": "markdown",
   "id": "828fa2e7-6900-4e8e-9124-34764b26ef8d",
   "metadata": {},
   "source": [
    "# Plotting\n",
    "To start with plotting, we will first make a stationary plot for a single frame of a play. From there, we can make it into an animation!\n",
    "\n",
    "So, we will get the background field as well as a scatter plot of the players.\n",
    "\n",
    "I will be using sportypy to plot the field here, more documentation can be found on their [GitHub](https://github.com/sportsdataverse/sportypy)"
   ]
  },
  {
   "cell_type": "code",
   "execution_count": 5,
   "id": "f09e5841-dd5f-4114-b315-720d4f0d8668",
   "metadata": {},
   "outputs": [
    {
     "name": "stderr",
     "output_type": "stream",
     "text": [
      "findfont: Font family ['Clarendon-Regular'] not found. Falling back to DejaVu Sans.\n"
     ]
    },
    {
     "data": {
      "text/plain": [
       "<AxesSubplot:>"
      ]
     },
     "execution_count": 5,
     "metadata": {},
     "output_type": "execute_result"
    },
    {
     "name": "stderr",
     "output_type": "stream",
     "text": [
      "findfont: Font family ['Clarendon-Regular'] not found. Falling back to DejaVu Sans.\n"
     ]
    },
    {
     "data": {
      "image/png": "[encoded data removed]",
      "text/plain": [
       "<Figure size 640x480 with 1 Axes>"
      ]
     },
     "metadata": {
      "needs_background": "light"
     },
     "output_type": "display_data"
    }
   ],
   "source": [
    "# Import football field\n",
    "# !pip install sportypy\n",
    "from sportypy.surfaces.football import NFLField\n",
    "import matplotlib.pyplot as plt\n",
    "\n",
    "nfl = NFLField()\n",
    "# Here, we can see what the blank field looks like:\n",
    "nfl.draw()"
   ]
  },
  {
   "cell_type": "code",
   "execution_count": 6,
   "id": "7b7ac891-be40-4cb2-80a1-49cb17a3b6ed",
   "metadata": {},
   "outputs": [
    {
     "data": {
      "text/plain": [
       "<matplotlib.collections.PathCollection at 0x7f95924b6260>"
      ]
     },
     "execution_count": 6,
     "metadata": {},
     "output_type": "execute_result"
    },
    {
     "data": {
      "image/png": "[encoded data removed]",
      "text/plain": [
       "<Figure size 640x480 with 1 Axes>"
      ]
     },
     "metadata": {},
     "output_type": "display_data"
    }
   ],
   "source": [
    "# Now, if we want to add in the players as dots, we can do so with the scatter method, working similarly to matplotlib!\n",
    "frame_1 = play[play['frameId'] == 1]\n",
    "\n",
    "fig, ax = plt.subplots(1, 1)\n",
    "nfl.draw(ax = ax)\n",
    "nfl.scatter(frame_1['x'], frame_1['y'])\n",
    "\n",
    "# Something that we will notice is that the points are not centered on the field. This is because the coordinate systems are off.\n",
    "# Our data has (0, 0) being the bottom left of the left endzone, whereas the field defaults to (0, 0) at the very middle of the field.\n",
    "# We can fix this with the x_trans and y_trans arguments when we create our nfl variable for the field"
   ]
  },
  {
   "cell_type": "code",
   "execution_count": 7,
   "id": "5243a56d-024c-4363-987c-16096a4f6265",
   "metadata": {},
   "outputs": [
    {
     "data": {
      "text/plain": [
       "<matplotlib.collections.PathCollection at 0x7f9592b468c0>"
      ]
     },
     "execution_count": 7,
     "metadata": {},
     "output_type": "execute_result"
    },
    {
     "data": {
      "image/png": "[encoded data removed]",
      "text/plain": [
       "<Figure size 640x480 with 1 Axes>"
      ]
     },
     "metadata": {},
     "output_type": "display_data"
    }
   ],
   "source": [
    "# We know that the field is measured in yards (as described in the docs) and the data source for big data bowl explains: \n",
    "    # x: Player position along the long axis of the field, 0 - 120 yards. See Figure 1 below. (numeric)\n",
    "    # y: Player position along the short axis of the field, 0 - 53.3 yards. See Figure 1 below. (numeric)\n",
    "length = 120\n",
    "height = 53.3\n",
    "nfl = NFLField(x_trans = ????, y_trans = ????) # this will adjust the coordinate plane that the points are plotted on\n",
    "fig, ax = plt.subplots(1, 1)\n",
    "nfl.draw(ax = ax)\n",
    "nfl.scatter(????, ????) # plot the x and y coordinates of each player and the ball"
   ]
  },
  {
   "cell_type": "markdown",
   "id": "7f3dacdb-affa-4423-b40e-735596c21f55",
   "metadata": {
    "tags": []
   },
   "source": [
    "# Animation\n",
    "\n",
    "For animating the play, we will be using matplotlib's [FuncAnimation](https://matplotlib.org/stable/api/_as_gen/matplotlib.animation.FuncAnimation.html). This function takes the parameters of a matplotlib figure with which to plot on, as well as a different function which you will create to plot each of the frames."
   ]
  },
  {
   "cell_type": "code",
   "execution_count": 41,
   "id": "a231ea49-4fae-41fc-8ea8-286bff59fdf2",
   "metadata": {},
   "outputs": [],
   "source": [
    "# !sudo apt-get install ffmpeg # this is required for the animation to work\n",
    "\n",
    "fig, ax = plt.subplots(figsize = (12, 5))\n",
    "ax.set_axis_off()\n",
    "\n",
    "def map_frame(frame_num):\n",
    "    ax.cla() # without this line, the dots will not get removed and the plot will get cluttered with \"old\" points\n",
    "    nfl.draw(ax = ax) # once we clear everything from the previous line, we have to re-draw the field\n",
    "    frame_data = # TODO: filter down to only plot one frame of your play\n",
    "    return nfl.scatter(????, ????)\n",
    "\n",
    "from matplotlib.animation import FuncAnimation\n",
    "from IPython.core.display import HTML\n",
    "\n",
    "anim = FuncAnimation(fig, map_frame, frames = len(play['frameId'].unique()), interval = 100)\n",
    "html = anim.to_html5_video()\n",
    "HTML(html)\n",
    "\n",
    "# This cell takes a little while! If you're impatient, feel free to add in print statements in the function to see your progress"
   ]
  },
  {
   "cell_type": "markdown",
   "id": "3b6c90dd-b740-4e51-a2fb-e0887ac2994c",
   "metadata": {},
   "source": [
    "How does it look? If you stuck with the play I left you, check that it makes sense with the real [footage](https://www.youtube.com/watch?v=Na3ZMuKjBwk)\n",
    "\n",
    "The job is not done! Our plot still has a lot that can be improved. A couple ideas you can try to fix:\n",
    "- color code the points by team and highlight the ball\n",
    "- get rid of all of the extra space on the sidelines, we will never have any data points too far out so it is just wasted space\n",
    "- zoom in on the play so it is easier to see (these last 2 will need you to look into the sportypy package and build off of what they have to draw out a new field)\n",
    "- maybe mess around with the sizes of dots to highlight the fastest players\n",
    "- Anything else you think might make it easier to view and look better!"
   ]
  }
 ],
 "metadata": {
  "kernelspec": {
   "display_name": "Python 3 (ipykernel)",
   "language": "python",
   "name": "python3"
  },
  "language_info": {
   "codemirror_mode": {
    "name": "ipython",
    "version": 3
   },
   "file_extension": ".py",
   "mimetype": "text/x-python",
   "name": "python",
   "nbconvert_exporter": "python",
   "pygments_lexer": "ipython3",
   "version": "3.10.12"
  }
 },
 "nbformat": 4,
 "nbformat_minor": 5
}
